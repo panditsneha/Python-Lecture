{
 "cells": [
  {
   "cell_type": "code",
   "execution_count": 1,
   "id": "7e522ac8",
   "metadata": {},
   "outputs": [],
   "source": [
    "str1 = 'Mango'                            # Single quote \n",
    "str2 = \"56\"                               # Double quote \n",
    "str3 = \"\"\"I never saw a purple cow,       # Triple quote\n",
    "I never hope to see one,\n",
    "But I can tell you, anyhow,\n",
    "I’d rather see than be one!\"\""
   ]
  },
  {
   "cell_type": "code",
   "execution_count": 2,
   "id": "e41c5690",
   "metadata": {},
   "outputs": [
    {
     "name": "stdout",
     "output_type": "stream",
     "text": [
      "Mango\n"
     ]
    }
   ],
   "source": [
    "print(str1)"
   ]
  },
  {
   "cell_type": "markdown",
   "id": "97a63e7e",
   "metadata": {},
   "source": [
    "### String Slicing"
   ]
  },
  {
   "cell_type": "code",
   "execution_count": 1,
   "id": "6134888e",
   "metadata": {},
   "outputs": [
    {
     "data": {
      "text/plain": [
       "'llo w'"
      ]
     },
     "execution_count": 1,
     "metadata": {},
     "output_type": "execute_result"
    }
   ],
   "source": [
    "str1 = \"Hello world\"\n",
    "str1[2:7:1]"
   ]
  },
  {
   "cell_type": "code",
   "execution_count": 3,
   "id": "50ac8bd2",
   "metadata": {},
   "outputs": [
    {
     "data": {
      "text/plain": [
       "'orld'"
      ]
     },
     "execution_count": 3,
     "metadata": {},
     "output_type": "execute_result"
    }
   ],
   "source": [
    "str1[-4:]"
   ]
  },
  {
   "cell_type": "code",
   "execution_count": 4,
   "id": "be152f95",
   "metadata": {},
   "outputs": [
    {
     "data": {
      "text/plain": [
       "'Hell'"
      ]
     },
     "execution_count": 4,
     "metadata": {},
     "output_type": "execute_result"
    }
   ],
   "source": [
    "str1[:4]"
   ]
  },
  {
   "cell_type": "markdown",
   "id": "85dd4f2a",
   "metadata": {},
   "source": [
    "### String fucntion "
   ]
  },
  {
   "cell_type": "code",
   "execution_count": 5,
   "id": "489c7b58",
   "metadata": {},
   "outputs": [],
   "source": [
    "str1 = \"Hello world\""
   ]
  },
  {
   "cell_type": "markdown",
   "id": "c7d3670d",
   "metadata": {},
   "source": [
    "#### 1. len()"
   ]
  },
  {
   "cell_type": "code",
   "execution_count": 6,
   "id": "f20a62fe",
   "metadata": {},
   "outputs": [
    {
     "data": {
      "text/plain": [
       "11"
      ]
     },
     "execution_count": 6,
     "metadata": {},
     "output_type": "execute_result"
    }
   ],
   "source": [
    "print(len(str1))"
   ]
  },
  {
   "cell_type": "markdown",
   "id": "4d53688b",
   "metadata": {},
   "source": [
    "#### 2. str()"
   ]
  },
  {
   "cell_type": "code",
   "execution_count": 7,
   "id": "d462b6ce",
   "metadata": {},
   "outputs": [
    {
     "name": "stdout",
     "output_type": "stream",
     "text": [
      "<class 'int'>\n",
      "<class 'str'>\n"
     ]
    }
   ],
   "source": [
    "num = 42\n",
    "print(type(num))    \n",
    "string = str(num)\n",
    "print(type(string))  "
   ]
  },
  {
   "cell_type": "markdown",
   "id": "89c663f5",
   "metadata": {},
   "source": [
    "#### 3. upper()"
   ]
  },
  {
   "cell_type": "code",
   "execution_count": 8,
   "id": "88166436",
   "metadata": {},
   "outputs": [
    {
     "name": "stdout",
     "output_type": "stream",
     "text": [
      "HELLO WORLD\n"
     ]
    }
   ],
   "source": [
    "print(str1.upper())"
   ]
  },
  {
   "cell_type": "markdown",
   "id": "663f6054",
   "metadata": {},
   "source": [
    "#### 4. lower()"
   ]
  },
  {
   "cell_type": "code",
   "execution_count": 9,
   "id": "0e93a82b",
   "metadata": {},
   "outputs": [
    {
     "name": "stdout",
     "output_type": "stream",
     "text": [
      "hello world\n"
     ]
    }
   ],
   "source": [
    "print(str1.lower()) "
   ]
  },
  {
   "cell_type": "markdown",
   "id": "972b1252",
   "metadata": {},
   "source": [
    "#### 5. replace()"
   ]
  },
  {
   "cell_type": "code",
   "execution_count": 10,
   "id": "5418ec1e",
   "metadata": {},
   "outputs": [
    {
     "name": "stdout",
     "output_type": "stream",
     "text": [
      "Hello Python\n"
     ]
    }
   ],
   "source": [
    "new_str = str1.replace(\"world\", \"Python\")\n",
    "print(new_str)"
   ]
  },
  {
   "cell_type": "markdown",
   "id": "9884b034",
   "metadata": {},
   "source": [
    "#### 6. strip()"
   ]
  },
  {
   "cell_type": "code",
   "execution_count": 26,
   "id": "4a6b9c48",
   "metadata": {},
   "outputs": [
    {
     "name": "stdout",
     "output_type": "stream",
     "text": [
      "Wel come\n"
     ]
    }
   ],
   "source": [
    "str2 = \"   Wel come \"\n",
    "print(str2.strip()) "
   ]
  },
  {
   "cell_type": "markdown",
   "id": "2dbf1c4c",
   "metadata": {},
   "source": [
    "#### 7. split()"
   ]
  },
  {
   "cell_type": "code",
   "execution_count": 14,
   "id": "97fa3aa7",
   "metadata": {},
   "outputs": [
    {
     "name": "stdout",
     "output_type": "stream",
     "text": [
      "['Python', 'is', 'a', 'very', 'easy', 'language', '']\n"
     ]
    }
   ],
   "source": [
    "str3 = \"Python is a very easy language \"\n",
    "print(str3.split(\" \"))"
   ]
  },
  {
   "cell_type": "code",
   "execution_count": 16,
   "id": "9a6713ac",
   "metadata": {},
   "outputs": [
    {
     "name": "stdout",
     "output_type": "stream",
     "text": [
      "['apple', 'banana', 'orange', 'mango', 'grapes']\n"
     ]
    }
   ],
   "source": [
    "str4 = \"apple,banana,orange,mango,grapes\"\n",
    "print(str4.split(\",\"))"
   ]
  },
  {
   "cell_type": "markdown",
   "id": "add2ab0a",
   "metadata": {},
   "source": [
    "#### 8. join()"
   ]
  },
  {
   "cell_type": "code",
   "execution_count": 22,
   "id": "b6ab2623",
   "metadata": {},
   "outputs": [
    {
     "name": "stdout",
     "output_type": "stream",
     "text": [
      "apple banana orange mango grapes\n"
     ]
    }
   ],
   "source": [
    "lst = ['apple', 'banana', 'orange', 'mango', 'grapes']\n",
    "print(\" \".join(lst))"
   ]
  },
  {
   "cell_type": "markdown",
   "id": "58242468",
   "metadata": {},
   "source": [
    "st = '' + 'apple' = 'apple'\n",
    "st = 'apple' + 'banana' = 'applebanana'\n",
    "st = 'applebanana' + 'orange' = 'applebananaorange'\n",
    "st = 'applebananaorange' + 'mango' = 'applebananaorangemango'\n",
    "st = 'applebananaorangemango' + 'grapes' = 'applebananaorangemangograpes'"
   ]
  },
  {
   "cell_type": "markdown",
   "id": "a87febf5",
   "metadata": {},
   "source": [
    "### Escape Character"
   ]
  },
  {
   "cell_type": "markdown",
   "id": "2829d534",
   "metadata": {},
   "source": [
    "### \\n "
   ]
  },
  {
   "cell_type": "code",
   "execution_count": 24,
   "id": "3d17f887",
   "metadata": {},
   "outputs": [
    {
     "name": "stdout",
     "output_type": "stream",
     "text": [
      "Python is a very easy language. \n",
      "I love python.\n"
     ]
    }
   ],
   "source": [
    "str1 = \"Python is a very easy language. \\nI love python.\"\n",
    "print(str1)"
   ]
  },
  {
   "cell_type": "markdown",
   "id": "bd64fb5d",
   "metadata": {},
   "source": [
    "### \\t "
   ]
  },
  {
   "cell_type": "code",
   "execution_count": 32,
   "id": "3ff6cbfc",
   "metadata": {},
   "outputs": [
    {
     "name": "stdout",
     "output_type": "stream",
     "text": [
      "Python is a very easy language. \tI love python.\n"
     ]
    }
   ],
   "source": [
    "str1 = \"Python is a very easy language. \\tI love python.\"\n",
    "print(str1)"
   ]
  },
  {
   "cell_type": "markdown",
   "id": "a1d47f37",
   "metadata": {},
   "source": [
    "###  \\\\\\   "
   ]
  },
  {
   "cell_type": "code",
   "execution_count": 33,
   "id": "3c39cd8d",
   "metadata": {},
   "outputs": [
    {
     "name": "stdout",
     "output_type": "stream",
     "text": [
      "C:\\Users\\Me\\Documents\n"
     ]
    }
   ],
   "source": [
    "path = \"C:\\\\Users\\\\Me\\\\Documents\"    # Watch some videos please\n",
    "print(path)"
   ]
  },
  {
   "cell_type": "code",
   "execution_count": 34,
   "id": "6d83ac53",
   "metadata": {},
   "outputs": [
    {
     "name": "stdout",
     "output_type": "stream",
     "text": [
      "It's a beautiful day!\n"
     ]
    }
   ],
   "source": [
    "str1 = 'It\\'s a beautiful day!'\n",
    "print(str1)"
   ]
  },
  {
   "cell_type": "code",
   "execution_count": 35,
   "id": "6182850d",
   "metadata": {},
   "outputs": [
    {
     "name": "stdout",
     "output_type": "stream",
     "text": [
      "She said, \"I'll be there soon.\"\n"
     ]
    }
   ],
   "source": [
    "str1 = \"She said, \\\"I'll be there soon.\\\"\"\n",
    "print(str1)"
   ]
  },
  {
   "cell_type": "markdown",
   "id": "b7ee757b",
   "metadata": {},
   "source": [
    "### String Format"
   ]
  },
  {
   "cell_type": "code",
   "execution_count": 39,
   "id": "f72beca8",
   "metadata": {},
   "outputs": [
    {
     "name": "stdout",
     "output_type": "stream",
     "text": [
      "My name is Alice and I am 25 years old. I work as a programmer.\n"
     ]
    }
   ],
   "source": [
    "name = 'Alice'\n",
    "age = 25\n",
    "job = 'programmer'\n",
    "\n",
    "message = 'My name is {} and I am {} years old. I work as a {}.'.format(name, age, job)\n",
    "\n",
    "print(message)"
   ]
  },
  {
   "cell_type": "code",
   "execution_count": 38,
   "id": "d6092409",
   "metadata": {},
   "outputs": [
    {
     "name": "stdout",
     "output_type": "stream",
     "text": [
      "My name is Alice and I am 25 years old. I work as a programmer.\n"
     ]
    }
   ],
   "source": [
    "# You can also use numbered placeholders to specify the order in which the values should be inserted:\n",
    "\n",
    "name = 'Alice'\n",
    "age = 25\n",
    "job = 'programmer'\n",
    "\n",
    "message = 'My name is {1} and I am {0} years old. I work as a {2}.'.format(age, name, job)\n",
    "\n",
    "print(message)"
   ]
  },
  {
   "cell_type": "code",
   "execution_count": null,
   "id": "26cbf43e",
   "metadata": {},
   "outputs": [],
   "source": []
  }
 ],
 "metadata": {
  "kernelspec": {
   "display_name": "Python 3 (ipykernel)",
   "language": "python",
   "name": "python3"
  },
  "language_info": {
   "codemirror_mode": {
    "name": "ipython",
    "version": 3
   },
   "file_extension": ".py",
   "mimetype": "text/x-python",
   "name": "python",
   "nbconvert_exporter": "python",
   "pygments_lexer": "ipython3",
   "version": "3.9.7"
  }
 },
 "nbformat": 4,
 "nbformat_minor": 5
}
