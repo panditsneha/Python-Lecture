{
 "cells": [
  {
   "cell_type": "markdown",
   "id": "270bd226",
   "metadata": {},
   "source": [
    "### Variables"
   ]
  },
  {
   "cell_type": "code",
   "execution_count": 6,
   "id": "4d2e336e",
   "metadata": {},
   "outputs": [],
   "source": [
    "name = 'Alice'\n",
    "height = 30\n",
    "weight = 30.64\n",
    "my_list = ['mango', 'apple', 'banana', 'coconut']"
   ]
  },
  {
   "cell_type": "markdown",
   "id": "f8e5a14a",
   "metadata": {},
   "source": [
    "#### Valid variable names"
   ]
  },
  {
   "cell_type": "markdown",
   "id": "de592913",
   "metadata": {},
   "source": [
    "* my_var\n",
    "* myVar\n",
    "* _my_var\n",
    "* MY_VAR\n",
    "* my_var_1 "
   ]
  },
  {
   "cell_type": "markdown",
   "id": "27ca498e",
   "metadata": {},
   "source": [
    "#### Invalid variable names"
   ]
  },
  {
   "cell_type": "markdown",
   "id": "17cc2a56",
   "metadata": {},
   "source": [
    "* 1_my_var   # variable name cannot start with a digit\n",
    "* my-var     # hyphens are not allowed in variable names\n",
    "* my var     # spaces are not allowed in variable names"
   ]
  },
  {
   "cell_type": "markdown",
   "id": "c47c7edc",
   "metadata": {},
   "source": [
    "### Variable assignment "
   ]
  },
  {
   "cell_type": "code",
   "execution_count": 7,
   "id": "33e4e728",
   "metadata": {},
   "outputs": [],
   "source": [
    "x = 20\n",
    "y = 65\n",
    "x = 40"
   ]
  },
  {
   "cell_type": "code",
   "execution_count": 9,
   "id": "926eb814",
   "metadata": {},
   "outputs": [
    {
     "name": "stdout",
     "output_type": "stream",
     "text": [
      "40\n",
      "65\n"
     ]
    }
   ],
   "source": [
    "print(x)\n",
    "print(y)"
   ]
  },
  {
   "cell_type": "markdown",
   "id": "96471699",
   "metadata": {},
   "source": [
    "### Operators"
   ]
  },
  {
   "cell_type": "markdown",
   "id": "940621e5",
   "metadata": {},
   "source": [
    "#### 1. Arithmetic Operators:"
   ]
  },
  {
   "cell_type": "code",
   "execution_count": 1,
   "id": "5fd71cc6",
   "metadata": {},
   "outputs": [
    {
     "name": "stdout",
     "output_type": "stream",
     "text": [
      "13\n",
      "7\n",
      "30\n",
      "3.3333333333333335\n"
     ]
    }
   ],
   "source": [
    "x = 10\n",
    "y = 3\n",
    "\n",
    "print(x + y)\n",
    "\n",
    "print(x - y)\n",
    "\n",
    "print(x * y)\n",
    "\n",
    "print(x / y)"
   ]
  },
  {
   "cell_type": "markdown",
   "id": "fd5d9098",
   "metadata": {},
   "source": [
    "#### 2. Comparison Operators:"
   ]
  },
  {
   "cell_type": "code",
   "execution_count": 2,
   "id": "accace02",
   "metadata": {},
   "outputs": [
    {
     "name": "stdout",
     "output_type": "stream",
     "text": [
      "False\n",
      "True\n",
      "True\n",
      "False\n",
      "True\n",
      "False\n"
     ]
    }
   ],
   "source": [
    "x = 10\n",
    "y = 3\n",
    "\n",
    "print(x == y)\n",
    "\n",
    "print(x != y)\n",
    "\n",
    "print(x > y)\n",
    "\n",
    "print(x < y)\n",
    "\n",
    "print(x >= y)\n",
    "\n",
    "print(x <= y)"
   ]
  },
  {
   "cell_type": "markdown",
   "id": "098e6aee",
   "metadata": {},
   "source": [
    "#### 3. Logical Operators:"
   ]
  },
  {
   "cell_type": "code",
   "execution_count": 18,
   "id": "be267f44",
   "metadata": {},
   "outputs": [
    {
     "name": "stdout",
     "output_type": "stream",
     "text": [
      "True\n",
      "True\n",
      "False\n"
     ]
    }
   ],
   "source": [
    "x = 10\n",
    "y = 3\n",
    "z = 5\n",
    "\n",
    "print(x > y and x > z)\n",
    "\n",
    "print(x > y or x < z)\n",
    "\n",
    "print(not(x > y and x > z))"
   ]
  },
  {
   "cell_type": "markdown",
   "id": "3c9fa959",
   "metadata": {},
   "source": [
    "#### 4. Assignment Operators:"
   ]
  },
  {
   "cell_type": "code",
   "execution_count": 22,
   "id": "12ad46ee",
   "metadata": {},
   "outputs": [
    {
     "name": "stdout",
     "output_type": "stream",
     "text": [
      "15\n",
      "12\n"
     ]
    }
   ],
   "source": [
    "x = 10\n",
    "\n",
    "# Addition assignment\n",
    "x += 5\n",
    "print(x)  # Output: 15\n",
    "\n",
    "# Subtraction assignment\n",
    "x -= 3\n",
    "print(x)  # Output: 12"
   ]
  },
  {
   "cell_type": "markdown",
   "id": "fd80b857",
   "metadata": {},
   "source": [
    "#### 5. Bitwise operators:"
   ]
  },
  {
   "cell_type": "code",
   "execution_count": 21,
   "id": "58644a19",
   "metadata": {},
   "outputs": [
    {
     "name": "stdout",
     "output_type": "stream",
     "text": [
      "2\n",
      "11\n",
      "9\n"
     ]
    }
   ],
   "source": [
    "x = 10\n",
    "y = 3\n",
    "\n",
    "# Bitwise and\n",
    "print(x & y)  # Output: 2\n",
    "\n",
    "# Bitwise or\n",
    "print(x | y)  # Output: 11\n",
    "\n",
    "# Bitwise xor\n",
    "print(x ^ y)  # Output: 9\n"
   ]
  },
  {
   "cell_type": "markdown",
   "id": "1d3541df",
   "metadata": {},
   "source": [
    "### Order of Computation"
   ]
  },
  {
   "cell_type": "markdown",
   "id": "a16b5f83",
   "metadata": {},
   "source": [
    "### type() function"
   ]
  },
  {
   "cell_type": "code",
   "execution_count": 27,
   "id": "43150c08",
   "metadata": {},
   "outputs": [],
   "source": [
    "x = 10\n",
    "y = 3\n",
    "z = 5"
   ]
  },
  {
   "cell_type": "code",
   "execution_count": 26,
   "id": "46cd0eb1",
   "metadata": {},
   "outputs": [
    {
     "name": "stdout",
     "output_type": "stream",
     "text": [
      "23.0\n",
      "55.0\n",
      "7.666666666666666\n",
      "11.0\n",
      "1.0\n"
     ]
    }
   ],
   "source": [
    "result = x + y * z \n",
    "print(result)  \n",
    "\n",
    "result = (x + y) * z  \n",
    "print(result)  \n",
    "\n",
    "result = x / y + z \n",
    "print(result) \n",
    "\n",
    "result = x + y % z\n",
    "print(result)  \n",
    "\n",
    "result = (x + y) % z \n",
    "print(result)  "
   ]
  },
  {
   "cell_type": "code",
   "execution_count": 25,
   "id": "dc243f54",
   "metadata": {},
   "outputs": [
    {
     "name": "stdout",
     "output_type": "stream",
     "text": [
      "8.0\n"
     ]
    }
   ],
   "source": [
    "x = (24 ** 2 // 4 % 25 / 19 * 8)\n",
    "print(x)"
   ]
  },
  {
   "cell_type": "code",
   "execution_count": 28,
   "id": "37b69514",
   "metadata": {},
   "outputs": [],
   "source": [
    "result = x + y * z  # Multiply y and z first, then add x\n",
    "\n",
    "result = (x + y) * z  # Add x and y first, then multiply by z\n",
    "\n",
    "result = x / y + z  # Divide x by y first, then add z\n",
    "\n",
    "result = x + y % z  # Take the remainder of y divided by z first, then add x\n",
    "\n",
    "result = (x + y) % z  # Add x and y first, then take the remainder\n",
    "                      # of the result divided by z"
   ]
  },
  {
   "cell_type": "code",
   "execution_count": 33,
   "id": "935bbd06",
   "metadata": {},
   "outputs": [
    {
     "name": "stdout",
     "output_type": "stream",
     "text": [
      "<class 'int'>\n",
      "<class 'float'>\n"
     ]
    }
   ],
   "source": [
    "# Addition\n",
    "var = 5+9\n",
    "print(type(5 + 9))  # Output: <class 'int'>\n",
    "var = 6.7 + 9.3\n",
    "print(type(var))    # Output: <class 'float'>"
   ]
  },
  {
   "cell_type": "code",
   "execution_count": 34,
   "id": "a97ac264",
   "metadata": {},
   "outputs": [
    {
     "name": "stdout",
     "output_type": "stream",
     "text": [
      "<class 'str'>\n"
     ]
    }
   ],
   "source": [
    "# Concatenation \n",
    "var = 'Hello'+'World'\n",
    "print(type(var))    # Output: <class 'str'>"
   ]
  },
  {
   "cell_type": "code",
   "execution_count": 15,
   "id": "4ad01968",
   "metadata": {},
   "outputs": [
    {
     "ename": "TypeError",
     "evalue": "unsupported operand type(s) for +: 'int' and 'str'",
     "output_type": "error",
     "traceback": [
      "\u001b[1;31m---------------------------------------------------------------------------\u001b[0m",
      "\u001b[1;31mTypeError\u001b[0m                                 Traceback (most recent call last)",
      "\u001b[1;32m~\\AppData\\Local\\Temp/ipykernel_25092/4182360634.py\u001b[0m in \u001b[0;36m<module>\u001b[1;34m\u001b[0m\n\u001b[1;32m----> 1\u001b[1;33m \u001b[0mvar\u001b[0m \u001b[1;33m=\u001b[0m \u001b[1;36m45\u001b[0m \u001b[1;33m+\u001b[0m\u001b[1;34m'World'\u001b[0m\u001b[1;33m\u001b[0m\u001b[1;33m\u001b[0m\u001b[0m\n\u001b[0m\u001b[0;32m      2\u001b[0m \u001b[0mprint\u001b[0m\u001b[1;33m(\u001b[0m\u001b[0mtype\u001b[0m\u001b[1;33m(\u001b[0m\u001b[0mvar\u001b[0m\u001b[1;33m)\u001b[0m\u001b[1;33m)\u001b[0m\u001b[1;33m\u001b[0m\u001b[1;33m\u001b[0m\u001b[0m\n",
      "\u001b[1;31mTypeError\u001b[0m: unsupported operand type(s) for +: 'int' and 'str'"
     ]
    }
   ],
   "source": [
    "var = 45 +'World'\n",
    "print(type(var))  "
   ]
  },
  {
   "cell_type": "markdown",
   "id": "9d61520b",
   "metadata": {},
   "source": [
    "### Type conversion"
   ]
  },
  {
   "cell_type": "code",
   "execution_count": 13,
   "id": "bf4d113f",
   "metadata": {},
   "outputs": [
    {
     "name": "stdout",
     "output_type": "stream",
     "text": [
      "<class 'int'>\n",
      "<class 'str'>\n",
      "<class 'float'>\n"
     ]
    }
   ],
   "source": [
    "# type conversion\n",
    "\n",
    "a = 34\n",
    "print(type(a))     # Output: <class 'int'>\n",
    "\n",
    "b = str(a)\n",
    "print(type(b))     # Output: <class 'str'>\n",
    "\n",
    "c = float(a)\n",
    "print(type(c))     # Output: <class 'float'>"
   ]
  },
  {
   "cell_type": "code",
   "execution_count": 7,
   "id": "3cd2e06e",
   "metadata": {},
   "outputs": [
    {
     "name": "stdout",
     "output_type": "stream",
     "text": [
      "<class 'str'>\n"
     ]
    },
    {
     "ename": "ValueError",
     "evalue": "invalid literal for int() with base 10: 'Sneha'",
     "output_type": "error",
     "traceback": [
      "\u001b[1;31m---------------------------------------------------------------------------\u001b[0m",
      "\u001b[1;31mValueError\u001b[0m                                Traceback (most recent call last)",
      "\u001b[1;32m~\\AppData\\Local\\Temp/ipykernel_25092/2495938653.py\u001b[0m in \u001b[0;36m<module>\u001b[1;34m\u001b[0m\n\u001b[0;32m      1\u001b[0m \u001b[0mname\u001b[0m \u001b[1;33m=\u001b[0m \u001b[1;34m'Sneha'\u001b[0m\u001b[1;33m\u001b[0m\u001b[1;33m\u001b[0m\u001b[0m\n\u001b[0;32m      2\u001b[0m \u001b[0mprint\u001b[0m\u001b[1;33m(\u001b[0m\u001b[0mtype\u001b[0m\u001b[1;33m(\u001b[0m\u001b[0mname\u001b[0m\u001b[1;33m)\u001b[0m\u001b[1;33m)\u001b[0m\u001b[1;33m\u001b[0m\u001b[1;33m\u001b[0m\u001b[0m\n\u001b[1;32m----> 3\u001b[1;33m \u001b[0mn1\u001b[0m \u001b[1;33m=\u001b[0m \u001b[0mint\u001b[0m\u001b[1;33m(\u001b[0m\u001b[0mname\u001b[0m\u001b[1;33m)\u001b[0m\u001b[1;33m\u001b[0m\u001b[1;33m\u001b[0m\u001b[0m\n\u001b[0m\u001b[0;32m      4\u001b[0m \u001b[0mprint\u001b[0m\u001b[1;33m(\u001b[0m\u001b[0mtype\u001b[0m\u001b[1;33m(\u001b[0m\u001b[0mn1\u001b[0m\u001b[1;33m)\u001b[0m\u001b[1;33m)\u001b[0m\u001b[1;33m\u001b[0m\u001b[1;33m\u001b[0m\u001b[0m\n",
      "\u001b[1;31mValueError\u001b[0m: invalid literal for int() with base 10: 'Sneha'"
     ]
    }
   ],
   "source": [
    "name = 'Sneha'\n",
    "print(type(name))\n",
    "n1 = int(name)\n",
    "print(type(n1))"
   ]
  },
  {
   "cell_type": "code",
   "execution_count": 10,
   "id": "f3b5a7ae",
   "metadata": {},
   "outputs": [
    {
     "name": "stdout",
     "output_type": "stream",
     "text": [
      "<class 'str'>\n",
      "<class 'int'>\n"
     ]
    }
   ],
   "source": [
    "age = '40'\n",
    "print(type(age))\n",
    "n2 = int(age)\n",
    "print(type(n2))"
   ]
  },
  {
   "cell_type": "markdown",
   "id": "608b6444",
   "metadata": {},
   "source": [
    "#### Implicit Conversion "
   ]
  },
  {
   "cell_type": "code",
   "execution_count": 11,
   "id": "1b58a009",
   "metadata": {},
   "outputs": [
    {
     "name": "stdout",
     "output_type": "stream",
     "text": [
      "<class 'float'>\n"
     ]
    }
   ],
   "source": [
    "var = 2 + 5.7\n",
    "print(type(var))"
   ]
  },
  {
   "cell_type": "markdown",
   "id": "d119bf83",
   "metadata": {},
   "source": [
    "### Input function"
   ]
  },
  {
   "cell_type": "code",
   "execution_count": 28,
   "id": "dd8367e1",
   "metadata": {},
   "outputs": [
    {
     "name": "stdout",
     "output_type": "stream",
     "text": [
      "Where do you live?\n",
      "India\n",
      "India\n",
      "<class 'str'>\n"
     ]
    }
   ],
   "source": [
    "place = input('Where do you live?\\n')\n",
    "print(place)\n",
    "print(type(place))"
   ]
  },
  {
   "cell_type": "code",
   "execution_count": 21,
   "id": "ffbcd8b0",
   "metadata": {},
   "outputs": [
    {
     "name": "stdout",
     "output_type": "stream",
     "text": [
      "India\n",
      "<class 'str'>\n"
     ]
    }
   ],
   "source": [
    "print(place)\n",
    "print(type(place))"
   ]
  },
  {
   "cell_type": "code",
   "execution_count": 25,
   "id": "1f10f3a2",
   "metadata": {},
   "outputs": [
    {
     "name": "stdout",
     "output_type": "stream",
     "text": [
      "Your age?30\n"
     ]
    }
   ],
   "source": [
    "age = int(input('Your age?'))"
   ]
  },
  {
   "cell_type": "code",
   "execution_count": 26,
   "id": "287f061a",
   "metadata": {},
   "outputs": [
    {
     "name": "stdout",
     "output_type": "stream",
     "text": [
      "30\n",
      "<class 'str'>\n"
     ]
    }
   ],
   "source": [
    "print(age)\n",
    "print(type(age))"
   ]
  }
 ],
 "metadata": {
  "kernelspec": {
   "display_name": "Python 3 (ipykernel)",
   "language": "python",
   "name": "python3"
  },
  "language_info": {
   "codemirror_mode": {
    "name": "ipython",
    "version": 3
   },
   "file_extension": ".py",
   "mimetype": "text/x-python",
   "name": "python",
   "nbconvert_exporter": "python",
   "pygments_lexer": "ipython3",
   "version": "3.9.7"
  }
 },
 "nbformat": 4,
 "nbformat_minor": 5
}
