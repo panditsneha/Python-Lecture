{
 "cells": [
  {
   "cell_type": "markdown",
   "id": "677fbcdd",
   "metadata": {},
   "source": [
    "### Modules"
   ]
  },
  {
   "cell_type": "code",
   "execution_count": null,
   "id": "74f87808",
   "metadata": {},
   "outputs": [],
   "source": [
    "import math\n",
    "import pandas as pd\n",
    "from matplotlib import pyplot as plt"
   ]
  },
  {
   "cell_type": "markdown",
   "id": "68076069",
   "metadata": {},
   "source": [
    "### pip"
   ]
  },
  {
   "cell_type": "code",
   "execution_count": null,
   "id": "1c22692a",
   "metadata": {},
   "outputs": [],
   "source": [
    "!pip install numpy"
   ]
  },
  {
   "cell_type": "markdown",
   "id": "cbdfe7fd",
   "metadata": {},
   "source": [
    "### Comments"
   ]
  },
  {
   "cell_type": "markdown",
   "id": "678f5923",
   "metadata": {},
   "source": [
    "#### 1. single line comment"
   ]
  },
  {
   "cell_type": "code",
   "execution_count": null,
   "id": "866d62a3",
   "metadata": {},
   "outputs": [],
   "source": [
    "print('The python university')\n",
    "\n",
    "# Hello everyone. Welcome to the python course.\n",
    "\n",
    "print('Hello world')\n",
    "\n",
    "# Bye everyone."
   ]
  },
  {
   "cell_type": "code",
   "execution_count": null,
   "id": "dc3c267d",
   "metadata": {},
   "outputs": [],
   "source": [
    "# Python applications are:\n",
    "# 1. Machine Learning\n",
    "# 2. Data Analysis and Visualization\n",
    "# 3. Web Development\n",
    "# 4. Game Development"
   ]
  },
  {
   "cell_type": "code",
   "execution_count": null,
   "id": "47e3cf2b",
   "metadata": {},
   "outputs": [],
   "source": [
    "\"\"\" Python applications are:\n",
    "1. Machine Learning\n",
    "2. Data Analysis and Visualization\n",
    "3. Web Development\n",
    "4. Game Development \"\"\"\n",
    "\n",
    "print('Hello world')"
   ]
  }
 ],
 "metadata": {
  "kernelspec": {
   "display_name": "Python 3 (ipykernel)",
   "language": "python",
   "name": "python3"
  },
  "language_info": {
   "codemirror_mode": {
    "name": "ipython",
    "version": 3
   },
   "file_extension": ".py",
   "mimetype": "text/x-python",
   "name": "python",
   "nbconvert_exporter": "python",
   "pygments_lexer": "ipython3",
   "version": "3.9.7"
  }
 },
 "nbformat": 4,
 "nbformat_minor": 5
}
